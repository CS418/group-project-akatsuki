{
 "cells": [
  {
   "attachments": {},
   "cell_type": "markdown",
   "metadata": {},
   "source": [
    "## Project/Problem Introduction\n",
    "\n",
    "\n",
    "The big idea of this project is to study the crime rates in Chicago city based on various variables such as weather, Demographics, Behavior and socioeconomic factors. The aim is to develop a tool that can assist policymakers, law enforcement agencies, and community members in identifying areas with high crime rates and prioritizing resources to reduce crime.\n",
    "\n",
    "The problem we want to solve is  Identification of high crime rate areas in Chicago, which can negatively impact the safety and well-being of residents, economic development, and community cohesion. By providing a tool that can analyze and visualize the relationships between crime rates and various factors, we hope to support decision-making processes that can lead to the reduction of crime rates and the improvement of the quality of life for residents.\n",
    "\n",
    "This project is essential because high crime rates are a significant concern for many urban areas worldwide. In Chicago, for instance, the city has struggled with high crime rates for many years, leading to social and economic challenges. Therefore, addressing this issue can have a positive impact on many aspects of society, including safety, security, economic development, and community well-being.\n",
    "\n",
    "We chose this problem because it is a complex and challenging issue that requires innovative solutions. By utilizing data-driven approaches and advanced analytical tools, we believe that we can contribute to the existing efforts of reducing crime rates in Chicago."
   ]
  },
  {
   "attachments": {},
   "cell_type": "markdown",
   "metadata": {},
   "source": [
    "## Any changes?\n",
    "\n",
    "Our original approach was to develop a crime index by analyzing crime patterns in the Chicago city area based on population, socioeconomic data, and weather conditions. However, we have now expanded our scope to include additional variables such as behavior and surveillance factors. We will be analyzing the impact of smoking, binge drinking, opioid overdose, sleep deprivation, and physical inactivity on crime rates in Chicago. In addition, we will be examining the impact of surveillance measures such as surveillance cameras, street lighting, police stations, and patrolling routes on crime rates. While we currently do not have surveillance data, we are actively seeking it since this feature has not been studied before. With this expanded scope, we hope to provide a more comprehensive analysis of the factors influencing crime rates in Chicago, and provide valuable insights for policymakers, law enforcement agencies, and community members."
   ]
  },
  {
   "attachments": {},
   "cell_type": "markdown",
   "metadata": {},
   "source": [
    "## Data\n",
    "\n",
    "| Features         | Sub-Features                             | Source                                             | Size        |\n",
    "| ---------------- | ---------------------------------------- | -------------------------------------------------- | ----------- |\n",
    "| Behavior         | Smoking                                  | [CDC places](http://www.cdc.gov/places)            |             |\n",
    "|                  | Binge Drinking                           |                |             |\n",
    "|                  | Opioid Overdose                          |               |             |\n",
    "|                  | Sleep<7hours                             |                |             |\n",
    "|                  | Physical Inactivity                      | [CDPH](http://www.cdc.gov/physicalactivity)        |             |\n",
    "| Climate          | Surface Temperature                      | [MODIS](http://www.modis.gsfc.nasa.gov)             |             |\n",
    "|                  | Wind Speed                               | [WorldClim](http://www.worldclim.org)              |             |\n",
    "|                  | Precipitation                            | [SOLARGIS](http://www.solargis.com)                |             |\n",
    "|                  | Snow                                     | [Global Wind Atlas](http://www.globalwindatlas.info)|             |\n",
    "| Socio-economic   | Socioeconomic Status                     | [CDC SVI](http://www.atsdr.cdc.gov/placeandhealth/svi)|             |\n",
    "|                  | Household composition and Disability     |              |             |\n",
    "|                  | Minority Status & Language               |                |             |\n",
    "|                  | Housing Type & Transportation            |               |             |\n",
    "| Survellance      | Survellance Cameras                      | [pending]                 |             |\n",
    "|                  | Lighting/Street Lights                   | [pending]                  |             |\n",
    "|                  | Police stations/ Patrolling routes       | [City of Chicago](http://www.chicago.gov/police)   |             |\n",
    "| Health           | Depression                               | [CDC places](http://www.cdc.gov/places)            |             |\n",
    "\n",
    "\n"
   ]
  },
  {
   "attachments": {},
   "cell_type": "markdown",
   "metadata": {},
   "source": [
    "## Research Questions\n",
    "\n",
    "1. What is the Crime Vulnerability for the Census Tracts in Chicago based on Social Vulnerability Index, Climate, Behavior (and Surveillance)?\n",
    "2. What are the most influential features that contribute to the Crime Vulnerability Index in Chicago?\n",
    "3. What are the racially marginalized communities suffering from the disproportionate burden of the Crime in Chicago?"
   ]
  },
  {
   "cell_type": "markdown",
   "metadata": {},
   "source": []
  }
 ],
 "metadata": {
  "kernelspec": {
   "display_name": "base",
   "language": "python",
   "name": "python3"
  },
  "language_info": {
   "codemirror_mode": {
    "name": "ipython",
    "version": 3
   },
   "file_extension": ".py",
   "mimetype": "text/x-python",
   "name": "python",
   "nbconvert_exporter": "python",
   "pygments_lexer": "ipython3",
   "version": "3.8.8"
  },
  "orig_nbformat": 4
 },
 "nbformat": 4,
 "nbformat_minor": 2
}
