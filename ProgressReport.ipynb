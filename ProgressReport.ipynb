{
 "cells": [
  {
   "attachments": {},
   "cell_type": "markdown",
   "metadata": {},
   "source": [
    "## Project/Problem Introduction\n",
    "\n",
    "\n",
    "The big idea of this project is to study the crime rates in Chicago city based on various variables such as weather, Demographics, Behavior and socioeconomic factors. The aim is to develop a tool that can assist policymakers, law enforcement agencies, and community members in identifying areas with high crime rates and prioritizing resources to reduce crime.\n",
    "\n",
    "The problem we want to solve is  Identification of high crime rate areas in Chicago, which can negatively impact the safety and well-being of residents, economic development, and community cohesion. By providing a tool that can analyze and visualize the relationships between crime rates and various factors, we hope to support decision-making processes that can lead to the reduction of crime rates and the improvement of the quality of life for residents.\n",
    "\n",
    "This project is essential because high crime rates are a significant concern for many urban areas worldwide. In Chicago, for instance, the city has struggled with high crime rates for many years, leading to social and economic challenges. Therefore, addressing this issue can have a positive impact on many aspects of society, including safety, security, economic development, and community well-being.\n",
    "\n",
    "We chose this problem because it is a complex and challenging issue that requires innovative solutions. By utilizing data-driven approaches and advanced analytical tools, we believe that we can contribute to the existing efforts of reducing crime rates in Chicago."
   ]
  },
  {
   "attachments": {},
   "cell_type": "markdown",
   "metadata": {},
   "source": [
    "## Any changes?\n",
    "\n",
    "Our original approach was to develop a crime index by analyzing crime patterns in the Chicago city area based on population, socioeconomic data, and weather conditions. However, we have now expanded our scope to include additional variables such as behavior and surveillance factors. We will be analyzing the impact of smoking, binge drinking, opioid overdose, sleep deprivation, and physical inactivity on crime rates in Chicago. In addition, we will be examining the impact of surveillance measures such as surveillance cameras, street lighting, police stations, and patrolling routes on crime rates. While we currently do not have surveillance data, we are actively seeking it since this feature has not been studied before. With this expanded scope, we hope to provide a more comprehensive analysis of the factors influencing crime rates in Chicago, and provide valuable insights for policymakers, law enforcement agencies, and community members."
   ]
  },
  {
   "attachments": {},
   "cell_type": "markdown",
   "metadata": {},
   "source": [
    "## Data\n",
    "\n",
    "| Features         | Sub-Features                             | Source                                             | Size        |\n",
    "| ---------------- | ---------------------------------------- | -------------------------------------------------- | ----------- |\n",
    "| Behavior         | Smoking                                  | [CDC places](http://www.cdc.gov/places)            |             |\n",
    "|                  | Binge Drinking                           |                |             |\n",
    "|                  | Opioid Overdose                          |               |             |\n",
    "|                  | Sleep<7hours                             |                |             |\n",
    "|                  | Physical Inactivity                      | [CDPH](http://www.cdc.gov/physicalactivity)        |             |\n",
    "| Climate          | Surface Temperature                      | [MODIS](http://www.modis.gsfc.nasa.gov)             |             |\n",
    "|                  | Wind Speed                               | [WorldClim](http://www.worldclim.org)              |             |\n",
    "|                  | Precipitation                            | [SOLARGIS](http://www.solargis.com)                |             |\n",
    "|                  | Snow                                     | [Global Wind Atlas](http://www.globalwindatlas.info)|             |\n",
    "| Socio-economic   | Socioeconomic Status                     | [CDC SVI](http://www.atsdr.cdc.gov/placeandhealth/svi)|             |\n",
    "|                  | Household composition and Disability     |              |             |\n",
    "|                  | Minority Status & Language               |                |             |\n",
    "|                  | Housing Type & Transportation            |               |             |\n",
    "| Survellance      | Survellance Cameras                      | [pending]                 |             |\n",
    "|                  | Lighting/Street Lights                   | [pending]                  |             |\n",
    "|                  | Police stations/ Patrolling routes       | [City of Chicago](http://www.chicago.gov/police)   |             |\n",
    "| Health           | Depression                               | [CDC places](http://www.cdc.gov/places)            |             |\n",
    "\n",
    "\n"
   ]
  },
  {
   "attachments": {},
   "cell_type": "markdown",
   "metadata": {},
   "source": [
    "## Research Questions\n",
    "\n",
    "1. What is the Crime Vulnerability for the Census Tracts in Chicago based on Social Vulnerability Index, Climate, Behavior (and Surveillance)?\n",
    "2. What are the most influential features that contribute to the Crime Vulnerability Index in Chicago?\n",
    "3. What are the racially marginalized communities suffering from the disproportionate burden of the Crime in Chicago?"
   ]
  },
  {
   "attachments": {},
   "cell_type": "markdown",
   "metadata": {},
   "source": [
    "## Literary Survey\n",
    "\n",
    "Link : https://docs.google.com/spreadsheets/d/1MDcVWjSiJYh4peLTETnzAKUZBhxbHf_z/edit#gid=841671740\n",
    "\n",
    "The literary survey includes 20 research papers that focus on using machine learning methods to predict and analyze crime in urban areas. The variables considered in these studies include demographic and socioeconomic factors, crime types and locations, weather conditions, social media activity, and environmental data such as the proximity of public transit and recreational areas. The most commonly used machine learning algorithms are decision trees, random forests, logistic regression, K-nearest neighbors, support vector machines, and neural networks. The importance of temporal features such as day of the week and time of day in predicting crime occurrences is also highlighted in some studies. Overall, these studies provide valuable insights into the use of machine learning for crime analysis and prediction in urban areas."
   ]
  },
  {
   "attachments": {},
   "cell_type": "markdown",
   "metadata": {},
   "source": [
    "## Data cleaning"
   ]
  },
  {
   "attachments": {},
   "cell_type": "markdown",
   "metadata": {},
   "source": [
    "## Exploratory Data Analysis"
   ]
  },
  {
   "attachments": {},
   "cell_type": "markdown",
   "metadata": {},
   "source": [
    "## Model planning\n",
    "\n",
    "### ML Task: Regression\n",
    "\n",
    "Models:\n",
    "Linear Regression\n",
    "Random Forest Regression\n",
    "Gradient Boosting Regression#\n",
    "Explanation:\n",
    "The regression task will be used to predict the Crime Vulnerability Index for different census tracts in Chicago based on several features like Social Vulnerability Index, Climate, Behavior, Health, and Air Pollution. We will be using regression models like Linear Regression, Random Forest Regression, and Gradient Boosting Regression to predict the Crime Vulnerability Index. Linear Regression is simple and interpretable but may not capture the complex nonlinear relationships between features. Random Forest and Gradient Boosting are more complex and can capture non-linear relationships but are less interpretable.\n",
    "\n",
    "### ML Task: Feature Importance Analysis\n",
    "\n",
    "Models:\n",
    "Random Forest Regression\n",
    "Gradient Boosting Regression\n",
    "Lasso Regression\n",
    "Explanation:\n",
    "Feature Importance Analysis will be used to determine the most influential features contributing to the Crime Vulnerability Index in Chicago. We will use models like Random Forest Regression, Gradient Boosting Regression, and Lasso Regression for Feature Importance Analysis. Random Forest and Gradient Boosting Regression are good for capturing the importance of non-linear relationships, while Lasso Regression is useful for feature selection by removing irrelevant features.\n",
    "\n",
    "### ML Task: Classification\n",
    "\n",
    "Models:\n",
    "Logistic Regression\n",
    "Decision Tree Classifier\n",
    "Random Forest Classifier\n",
    "Explanation:\n",
    "The classification task will be used to identify the racially marginalized communities suffering from the disproportionate burden of crime in Chicago. We will use models like Logistic Regression, Decision Tree Classifier, and Random Forest Classifier for classification. Logistic Regression is simple and interpretable but may not perform well when there are non-linear relationships between features. Decision Trees and Random Forests can capture non-linear relationships and are useful for feature selection, but they may overfit the data."
   ]
  },
  {
   "attachments": {},
   "cell_type": "markdown",
   "metadata": {},
   "source": [
    "## Reflection"
   ]
  },
  {
   "attachments": {},
   "cell_type": "markdown",
   "metadata": {},
   "source": [
    "## Next Steps"
   ]
  }
 ],
 "metadata": {
  "kernelspec": {
   "display_name": "base",
   "language": "python",
   "name": "python3"
  },
  "language_info": {
   "codemirror_mode": {
    "name": "ipython",
    "version": 3
   },
   "file_extension": ".py",
   "mimetype": "text/x-python",
   "name": "python",
   "nbconvert_exporter": "python",
   "pygments_lexer": "ipython3",
   "version": "3.8.8"
  },
  "orig_nbformat": 4
 },
 "nbformat": 4,
 "nbformat_minor": 2
}
